{
  "nbformat": 4,
  "nbformat_minor": 0,
  "metadata": {
    "colab": {
      "name": "nlp-sentiment-analysis.ipynb",
      "provenance": [],
      "include_colab_link": true
    },
    "kernelspec": {
      "name": "python3",
      "display_name": "Python 3"
    },
    "accelerator": "GPU"
  },
  "cells": [
    {
      "cell_type": "markdown",
      "metadata": {
        "id": "view-in-github",
        "colab_type": "text"
      },
      "source": [
        "<a href=\"https://colab.research.google.com/github/oyyarko/nlp_projects/blob/master/nlp_sentiment_analysis.ipynb\" target=\"_parent\"><img src=\"https://colab.research.google.com/assets/colab-badge.svg\" alt=\"Open In Colab\"/></a>"
      ]
    },
    {
      "cell_type": "markdown",
      "metadata": {
        "id": "3YZIHLGocivs",
        "colab_type": "text"
      },
      "source": [
        "From https://stackabuse.com/python-for-nlp-movie-sentiment-analysis-using-deep-learning-in-keras/"
      ]
    },
    {
      "cell_type": "code",
      "metadata": {
        "id": "bZvAFrxQJZt4",
        "colab_type": "code",
        "colab": {
          "base_uri": "https://localhost:8080/",
          "height": 70
        },
        "outputId": "559225a1-d5c4-4b3e-d171-9afd56b3b661"
      },
      "source": [
        "This Curl Link is modified, if you copy it this link won't work\nYou need to copy from kaggle API"
      ]
      "source": [
        "!curl \"https://storage.googleapis.com/kaggle-data-sets/134715/320111/bundle/archive.zip?GoogleAccessId=web-data@kaggle-161607.iam.gserviceaccount.com&Expires=1578460911&Signature=DVYGXzZKgkll14zkb4x\"%\"2FaKQvbq0HevkK0ghR4RVx3X2Rj\"%\"2BvXXzGAm99fZHexgmLllz1ngG5tvVf9U8LDgw\"%\"2&&&&&&&&&&&&&&9r\"%\"2FmS9ImJ7YWPH3gCXXmh7Rqubz8h7tkJeFM\"%\"2BCjqwz31PLL\"%\"2B0GaNnF374TwdpPUlR\"%\"2Faa\"%\"2FHxVJFF3suktYzSj6Y2PCQB9f9fcitL9aW8HrVqz9ti2\"%\"2Fy7Q6DCV8E\"%\"2Bna0NBrQlQ9lT10nneQ\"%\"3D\"%\"3D&response-content-disposition=attachment\"%\"3B+filename\"%\"3Dimdb-dataset-of-50k-movie-reviews.zip\" -H \"User-Agent: Mozilla/5.0 (Windows NT 10.0; Win64; x64; rv:71.0) Gecko/20100101 Firefox/71.0\" -H \"Accept: text/html,application/xhtml+xml,application/xml;q=0.9,*/*;q=0.8\" -H \"Accept-Language: en-US,en;q=0.5\" --compressed -H \"Referer: https://www.kaggle.com/\" -H \"Connection: keep-alive\" -H \"Upgrade-Insecure-Requests: 1\" -o imdb_dataset_kaggle.zip"
      ],
      "execution_count": 2,
      "outputs": [
        {
          "output_type": "stream",
          "text": [
            "  % Total    % Received % Xferd  Average Speed   Time    Time     Time  Current\n",
            "                                 Dload  Upload   Total   Spent    Left  Speed\n",
            "100 25.7M  100 25.7M    0     0  16.1M      0  0:00:01  0:00:01 --:--:-- 16.1M\n"
          ],
          "name": "stdout"
        }
      ]
    },
    {
      "cell_type": "code",
      "metadata": {
        "id": "VCNLbZ03J3zX",
        "colab_type": "code",
        "colab": {
          "base_uri": "https://localhost:8080/",
          "height": 88
        },
        "outputId": "695e3e4d-7fa1-433b-a5c6-53e0654c06f9"
      },
      "source": [
        "from zipfile import ZipFile\n",
        "\n",
        "file_name = 'imdb_dataset_kaggle.zip'\n",
        "\n",
        "with ZipFile(file_name, 'r') as zip:\n",
        "    zip.printdir()\n",
        "    print(\"Extracting all files\")\n",
        "    zip.extractall()\n",
        "    print(\"Done!!\")"
      ],
      "execution_count": 3,
      "outputs": [
        {
          "output_type": "stream",
          "text": [
            "File Name                                             Modified             Size\n",
            "IMDB Dataset.csv                               2019-10-19 19:24:58     66212309\n",
            "Extracting all files\n",
            "Done!!\n"
          ],
          "name": "stdout"
        }
      ]
    },
    {
      "cell_type": "code",
      "metadata": {
        "id": "9oFWaRjBKWR-",
        "colab_type": "code",
        "colab": {}
      },
      "source": [
        "import pandas as pd\n",
        "import numpy as np\n",
        "import re\n",
        "import nltk\n",
        "from nltk.corpus import stopwords\n",
        "\n",
        "from numpy import array\n",
        "from keras.preprocessing.text import one_hot\n",
        "from keras.preprocessing.sequence import pad_sequences\n",
        "from keras.models import Sequential\n",
        "from keras.layers import Dense, Activation, Dropout, Flatten, GlobalMaxPooling1D\n",
        "from keras.layers import Embedding\n",
        "from sklearn.model_selection import train_test_split\n",
        "from keras.preprocessing.text import Tokenizer"
      ],
      "execution_count": 0,
      "outputs": []
    },
    {
      "cell_type": "code",
      "metadata": {
        "id": "Vrpyv7cxLHoP",
        "colab_type": "code",
        "colab": {
          "base_uri": "https://localhost:8080/",
          "height": 35
        },
        "outputId": "e3cc8a89-cf22-427f-bdbf-ecb41b6b6c9b"
      },
      "source": [
        "%cd /content/\n",
        "movie_reviews = pd.read_csv(\"IMDB Dataset.csv\")"
      ],
      "execution_count": 2,
      "outputs": [
        {
          "output_type": "stream",
          "text": [
            "/content\n"
          ],
          "name": "stdout"
        }
      ]
    },
    {
      "cell_type": "code",
      "metadata": {
        "id": "Rp5zQ7LVLYQc",
        "colab_type": "code",
        "colab": {
          "base_uri": "https://localhost:8080/",
          "height": 35
        },
        "outputId": "0d9a6cf9-9b3e-4d46-c72b-a685821d36af"
      },
      "source": [
        "movie_reviews.isnull().values.any()\n",
        "movie_reviews.shape"
      ],
      "execution_count": 3,
      "outputs": [
        {
          "output_type": "execute_result",
          "data": {
            "text/plain": [
              "(50000, 2)"
            ]
          },
          "metadata": {
            "tags": []
          },
          "execution_count": 3
        }
      ]
    },
    {
      "cell_type": "code",
      "metadata": {
        "id": "TRly5ywALfT3",
        "colab_type": "code",
        "colab": {
          "base_uri": "https://localhost:8080/",
          "height": 206
        },
        "outputId": "3d38b8a9-00b3-4a2c-a066-a56d87bfd8d8"
      },
      "source": [
        "movie_reviews.head()"
      ],
      "execution_count": 4,
      "outputs": [
        {
          "output_type": "execute_result",
          "data": {
            "text/html": [
              "<div>\n",
              "<style scoped>\n",
              "    .dataframe tbody tr th:only-of-type {\n",
              "        vertical-align: middle;\n",
              "    }\n",
              "\n",
              "    .dataframe tbody tr th {\n",
              "        vertical-align: top;\n",
              "    }\n",
              "\n",
              "    .dataframe thead th {\n",
              "        text-align: right;\n",
              "    }\n",
              "</style>\n",
              "<table border=\"1\" class=\"dataframe\">\n",
              "  <thead>\n",
              "    <tr style=\"text-align: right;\">\n",
              "      <th></th>\n",
              "      <th>review</th>\n",
              "      <th>sentiment</th>\n",
              "    </tr>\n",
              "  </thead>\n",
              "  <tbody>\n",
              "    <tr>\n",
              "      <th>0</th>\n",
              "      <td>One of the other reviewers has mentioned that ...</td>\n",
              "      <td>positive</td>\n",
              "    </tr>\n",
              "    <tr>\n",
              "      <th>1</th>\n",
              "      <td>A wonderful little production. &lt;br /&gt;&lt;br /&gt;The...</td>\n",
              "      <td>positive</td>\n",
              "    </tr>\n",
              "    <tr>\n",
              "      <th>2</th>\n",
              "      <td>I thought this was a wonderful way to spend ti...</td>\n",
              "      <td>positive</td>\n",
              "    </tr>\n",
              "    <tr>\n",
              "      <th>3</th>\n",
              "      <td>Basically there's a family where a little boy ...</td>\n",
              "      <td>negative</td>\n",
              "    </tr>\n",
              "    <tr>\n",
              "      <th>4</th>\n",
              "      <td>Petter Mattei's \"Love in the Time of Money\" is...</td>\n",
              "      <td>positive</td>\n",
              "    </tr>\n",
              "  </tbody>\n",
              "</table>\n",
              "</div>"
            ],
            "text/plain": [
              "                                              review sentiment\n",
              "0  One of the other reviewers has mentioned that ...  positive\n",
              "1  A wonderful little production. <br /><br />The...  positive\n",
              "2  I thought this was a wonderful way to spend ti...  positive\n",
              "3  Basically there's a family where a little boy ...  negative\n",
              "4  Petter Mattei's \"Love in the Time of Money\" is...  positive"
            ]
          },
          "metadata": {
            "tags": []
          },
          "execution_count": 4
        }
      ]
    },
    {
      "cell_type": "code",
      "metadata": {
        "id": "5JKgVkVcLnaS",
        "colab_type": "code",
        "colab": {
          "base_uri": "https://localhost:8080/",
          "height": 55
        },
        "outputId": "9d681fb1-181b-45b9-a3b5-609484af0c5e"
      },
      "source": [
        "movie_reviews.review[3]"
      ],
      "execution_count": 5,
      "outputs": [
        {
          "output_type": "execute_result",
          "data": {
            "text/plain": [
              "\"Basically there's a family where a little boy (Jake) thinks there's a zombie in his closet & his parents are fighting all the time.<br /><br />This movie is slower than a soap opera... and suddenly, Jake decides to become Rambo and kill the zombie.<br /><br />OK, first of all when you're going to make a film you must Decide if its a thriller or a drama! As a drama the movie is watchable. Parents are divorcing & arguing like in real life. And then we have Jake with his closet which totally ruins all the film! I expected to see a BOOGEYMAN similar movie, and instead i watched a drama with some meaningless thriller spots.<br /><br />3 out of 10 just for the well playing parents & descent dialogs. As for the shots with Jake: just ignore them.\""
            ]
          },
          "metadata": {
            "tags": []
          },
          "execution_count": 5
        }
      ]
    },
    {
      "cell_type": "code",
      "metadata": {
        "id": "ppJUt96zL0B1",
        "colab_type": "code",
        "colab": {
          "base_uri": "https://localhost:8080/",
          "height": 297
        },
        "outputId": "4a296032-edc7-4501-fab1-b84562669ab5"
      },
      "source": [
        "import seaborn as sns\n",
        "sns.countplot(x='sentiment', data=movie_reviews)"
      ],
      "execution_count": 6,
      "outputs": [
        {
          "output_type": "execute_result",
          "data": {
            "text/plain": [
              "<matplotlib.axes._subplots.AxesSubplot at 0x7fd695906c50>"
            ]
          },
          "metadata": {
            "tags": []
          },
          "execution_count": 6
        },
        {
          "output_type": "display_data",
          "data": {
            "image/png": "iVBORw0KGgoAAAANSUhEUgAAAZEAAAEGCAYAAACkQqisAAAABHNCSVQICAgIfAhkiAAAAAlwSFlz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\nRCRJ3QwRSVI3Q0SS1M0QkSR1+//R8LGI66vvPQAAAABJRU5ErkJggg==\n",
            "text/plain": [
              "<Figure size 432x288 with 1 Axes>"
            ]
          },
          "metadata": {
            "tags": []
          }
        }
      ]
    },
    {
      "cell_type": "code",
      "metadata": {
        "id": "PKAUZNoYLlkX",
        "colab_type": "code",
        "colab": {}
      },
      "source": [
        "def preprocess_text(sen):\n",
        "    sentence = remove_tags(sen) #removes HTML tags\n",
        "    sentence = re.sub(r'[^a-zA-Z]', ' ', sentence)\n",
        "    sentence = re.sub(r'\\s+[a-zA-Z]\\s+', ' ', sentence)\n",
        "    sentence = re.sub(r'\\s+', ' ', sentence)\n",
        "    return sentence\n",
        "\n",
        "TAG_RE = re.compile(r'<[^>]+>')\n",
        "\n",
        "def remove_tags(text):\n",
        "    return TAG_RE.sub('', text)"
      ],
      "execution_count": 0,
      "outputs": []
    },
    {
      "cell_type": "code",
      "metadata": {
        "id": "bKkWS0AONMRq",
        "colab_type": "code",
        "colab": {
          "base_uri": "https://localhost:8080/",
          "height": 35
        },
        "outputId": "26449d9d-fdc4-4eaf-faeb-da37b488f96c"
      },
      "source": [
        "preprocess_text(\"Hey there i'm  <br>arvina kori. You can call me arko\")"
      ],
      "execution_count": 8,
      "outputs": [
        {
          "output_type": "execute_result",
          "data": {
            "text/plain": [
              "'Hey there m arvina kori You can call me arko'"
            ]
          },
          "metadata": {
            "tags": []
          },
          "execution_count": 8
        }
      ]
    },
    {
      "cell_type": "code",
      "metadata": {
        "id": "6jRtALq4NRRy",
        "colab_type": "code",
        "colab": {}
      },
      "source": [
        "X = []\n",
        "sentences = list(movie_reviews['review'])\n",
        "for sen in sentences:\n",
        "    X.append(preprocess_text(sen))"
      ],
      "execution_count": 0,
      "outputs": []
    },
    {
      "cell_type": "code",
      "metadata": {
        "id": "1AuTqqbaN4Ic",
        "colab_type": "code",
        "colab": {
          "base_uri": "https://localhost:8080/",
          "height": 55
        },
        "outputId": "3f5b0171-e785-460c-a108-4bc5b23f5e15"
      },
      "source": [
        "X[3]"
      ],
      "execution_count": 10,
      "outputs": [
        {
          "output_type": "execute_result",
          "data": {
            "text/plain": [
              "'Basically there a family where little boy Jake thinks there a zombie in his closet his parents are fighting all the time This movie is slower than soap opera and suddenly Jake decides to become Rambo and kill the zombie OK first of all when you re going to make film you must Decide if its thriller or drama As drama the movie is watchable Parents are divorcing arguing like in real life And then we have Jake with his closet which totally ruins all the film expected to see BOOGEYMAN similar movie and instead watched drama with some meaningless thriller spots out of just for the well playing parents descent dialogs As for the shots with Jake just ignore them '"
            ]
          },
          "metadata": {
            "tags": []
          },
          "execution_count": 10
        }
      ]
    },
    {
      "cell_type": "code",
      "metadata": {
        "id": "otOOsdMxN7m3",
        "colab_type": "code",
        "colab": {}
      },
      "source": [
        "y = movie_reviews['sentiment']\n",
        "y = np.array(list(map(lambda x: 1 if x==\"positive\" else 0, y)))"
      ],
      "execution_count": 0,
      "outputs": []
    },
    {
      "cell_type": "code",
      "metadata": {
        "id": "0h3I8kA6OjL7",
        "colab_type": "code",
        "colab": {}
      },
      "source": [
        "X_train, X_test, y_train, y_test = train_test_split(X, y, test_size=0.2, random_state=42)"
      ],
      "execution_count": 0,
      "outputs": []
    },
    {
      "cell_type": "code",
      "metadata": {
        "id": "KFUpAXa6OyR3",
        "colab_type": "code",
        "colab": {}
      },
      "source": [
        "tokenizer = Tokenizer(num_words=5000)\n",
        "tokenizer.fit_on_texts(X_train)\n",
        "\n",
        "X_train = tokenizer.texts_to_sequences(X_train)\n",
        "X_test = tokenizer.texts_to_sequences(X_test)"
      ],
      "execution_count": 0,
      "outputs": []
    },
    {
      "cell_type": "code",
      "metadata": {
        "id": "pMgZizHHPL8J",
        "colab_type": "code",
        "colab": {}
      },
      "source": [
        "vocab_size = len(tokenizer.word_index) + 1\n",
        "X_train = pad_sequences(X_train, padding='post', maxlen=100)\n",
        "X_test = pad_sequences(X_test, padding='post', maxlen=100)"
      ],
      "execution_count": 0,
      "outputs": []
    },
    {
      "cell_type": "code",
      "metadata": {
        "id": "Sgbzv3tGQCJc",
        "colab_type": "code",
        "colab": {
          "base_uri": "https://localhost:8080/",
          "height": 583
        },
        "outputId": "41747f7b-49d5-4af8-810c-e00f87af4290"
      },
      "source": [
        "print(X_train[10:14])"
      ],
      "execution_count": 15,
      "outputs": [
        {
          "output_type": "stream",
          "text": [
            "[[   1  898    2   11  104  634    3   84  252    2 1424  505   64    1\n",
            "  1342    9    1   58   63 1834   71  977   11  325  224    2   87   79\n",
            "   764   11    3  108  202  154    2  317   28 1015 1031    1  901    6\n",
            "   230   23   71   47  426   41   95    3    1   98   63  229    4  130\n",
            "     9 1913  533  302    7  104   76  101  159   36   41    1  263  288\n",
            "     1   24   63  272  224   79    1   16   13   30 1690 4062 1121   16\n",
            "    27  217   89  475   10    7    1  200  268    6  288  122 1222 4406\n",
            "   346 1821]\n",
            " [ 620   22 1480    2   26   66  830    5  685 2777    3 2169    2  711\n",
            "  2656   33  956  180   93   87   49   66  409  165   39   43    2   31\n",
            "     6    5   26  113   10  417    8  467  509   39    4   25   44  237\n",
            "     3 1069  915 3868   33   31   42  668  210  141    4  109    4 2382\n",
            "     1  378    2   38  222    2   26    1  378  121    5  763   35    7\n",
            "   954    3    1  571  657   14   38  886   18  936   36  136   34   50\n",
            "   164   79   44  237    3    8   12    5 1152  778    6    6   19   55\n",
            "   271 2587]\n",
            " [   1   98    9   20  459    7   54  650   20   94   45   19    4   99\n",
            "   171   53  136   47   68    1  234  540 2692    1  232   11   41   28\n",
            "    46  830   64  108   80    8 4761  161   64  223 3616    7    6  442\n",
            "    56 3976  188   19    4   99    1  866   12    7    1  257  196    6\n",
            "   128  275  176 1098    4    1   83  103   93    2   85    3    1  205\n",
            "    98   73   19 1007   82  629    4  384   80    1  866   12 1026 2594\n",
            "     4  414   14    1 2213    3    1  263    7    1  328   12    6  161\n",
            "    64  656]\n",
            " [   5 1368   75   11 1729 4890 2977   39    4 2038    1  270    4  356\n",
            "     6   13  459   21   42  166    3 1292   15  129  150   72    7    1\n",
            "    92    2 2038  132   33   43   60  161    1   16    5   19    1  106\n",
            "    15    1  104  603  261   33  603    4  180    5  127    2  161   64\n",
            "   417  166   47   68  229   33  627   12  727  830   35   20   40  603\n",
            "     7    8   16    2   95  320    3 2595 4670  180 1449   78  108    1\n",
            "     7    8   16   41   17  108   17   78  108    8  480   77  793   39\n",
            "  2430 3305]]\n"
          ],
          "name": "stdout"
        }
      ]
    },
    {
      "cell_type": "code",
      "metadata": {
        "id": "UX9vC3iDRcy2",
        "colab_type": "code",
        "colab": {
          "base_uri": "https://localhost:8080/",
          "height": 391
        },
        "outputId": "fe3377e3-236f-45f8-d257-059aaf34a319"
      },
      "source": [
        "!wget http://nlp.stanford.edu/data/glove.6B.zip"
      ],
      "execution_count": 39,
      "outputs": [
        {
          "output_type": "stream",
          "text": [
            "--2020-01-05 06:00:52--  http://nlp.stanford.edu/data/glove.6B.zip\n",
            "Resolving nlp.stanford.edu (nlp.stanford.edu)... 171.64.67.140\n",
            "Connecting to nlp.stanford.edu (nlp.stanford.edu)|171.64.67.140|:80... connected.\n",
            "HTTP request sent, awaiting response... 302 Found\n",
            "Location: https://nlp.stanford.edu/data/glove.6B.zip [following]\n",
            "--2020-01-05 06:00:52--  https://nlp.stanford.edu/data/glove.6B.zip\n",
            "Connecting to nlp.stanford.edu (nlp.stanford.edu)|171.64.67.140|:443... connected.\n",
            "HTTP request sent, awaiting response... 301 Moved Permanently\n",
            "Location: http://downloads.cs.stanford.edu/nlp/data/glove.6B.zip [following]\n",
            "--2020-01-05 06:00:53--  http://downloads.cs.stanford.edu/nlp/data/glove.6B.zip\n",
            "Resolving downloads.cs.stanford.edu (downloads.cs.stanford.edu)... 171.64.64.22\n",
            "Connecting to downloads.cs.stanford.edu (downloads.cs.stanford.edu)|171.64.64.22|:80... connected.\n",
            "HTTP request sent, awaiting response... 200 OK\n",
            "Length: 862182613 (822M) [application/zip]\n",
            "Saving to: ‘glove.6B.zip’\n",
            "\n",
            "glove.6B.zip        100%[===================>] 822.24M  2.28MB/s    in 6m 29s  \n",
            "\n",
            "2020-01-05 06:07:23 (2.11 MB/s) - ‘glove.6B.zip’ saved [862182613/862182613]\n",
            "\n"
          ],
          "name": "stdout"
        }
      ]
    },
    {
      "cell_type": "code",
      "metadata": {
        "id": "AMgd2nW1RnZQ",
        "colab_type": "code",
        "colab": {
          "base_uri": "https://localhost:8080/",
          "height": 141
        },
        "outputId": "c4b42222-7105-4b4e-e834-459253c83776"
      },
      "source": [
        "from zipfile import ZipFile\n",
        "\n",
        "file_name = 'glove.6B.zip'\n",
        "\n",
        "with ZipFile(file_name, 'r') as zip:\n",
        "    zip.printdir()\n",
        "    print(\"Extracting all files\")\n",
        "    zip.extractall()\n",
        "    print(\"Done!!\")"
      ],
      "execution_count": 40,
      "outputs": [
        {
          "output_type": "stream",
          "text": [
            "File Name                                             Modified             Size\n",
            "glove.6B.50d.txt                               2014-08-04 13:15:00    171350079\n",
            "glove.6B.100d.txt                              2014-08-04 13:14:34    347116733\n",
            "glove.6B.200d.txt                              2014-08-04 13:14:44    693432828\n",
            "glove.6B.300d.txt                              2014-08-27 12:19:16   1037962819\n",
            "Extracting all files\n",
            "Done!!\n"
          ],
          "name": "stdout"
        }
      ]
    },
    {
      "cell_type": "code",
      "metadata": {
        "id": "4DSEyLedQLWG",
        "colab_type": "code",
        "colab": {}
      },
      "source": [
        "from numpy import array, asarray, zeros\n",
        "\n",
        "embeddings_dictionary = dict()\n",
        "glove_file = open('glove.6B.100d.txt', encoding='utf8')\n",
        "\n",
        "for line in glove_file:\n",
        "    records = line.split()\n",
        "    word = records[0]\n",
        "    vector_dimensions = asarray(records[1:], dtype='float32')\n",
        "    embeddings_dictionary[word] = vector_dimensions\n",
        "\n",
        "glove_file.close()"
      ],
      "execution_count": 0,
      "outputs": []
    },
    {
      "cell_type": "code",
      "metadata": {
        "id": "J_aTfOxIUgZc",
        "colab_type": "code",
        "colab": {}
      },
      "source": [
        "embedding_matrix = zeros((vocab_size, 100))\n",
        "for word, index in tokenizer.word_index.items():\n",
        "    embedding_vector = embeddings_dictionary.get(word)\n",
        "    if embedding_vector is not None:\n",
        "        embedding_matrix[index] = embedding_vector"
      ],
      "execution_count": 0,
      "outputs": []
    },
    {
      "cell_type": "markdown",
      "metadata": {
        "id": "qWMtz5-gWxdU",
        "colab_type": "text"
      },
      "source": [
        "### **1. Text Classification with Simple Neural Network**"
      ]
    },
    {
      "cell_type": "code",
      "metadata": {
        "id": "mda9o6zzWvNq",
        "colab_type": "code",
        "colab": {
          "base_uri": "https://localhost:8080/",
          "height": 356
        },
        "outputId": "8086ee07-4f75-4b0e-8c11-c8aa9625b85e"
      },
      "source": [
        "model = Sequential()\n",
        "embedding_layer = Embedding(vocab_size, 100, weights=[embedding_matrix],\n",
        "                           input_length=100, trainable=False)\n",
        "\n",
        "model.add(embedding_layer)\n",
        "model.add(Flatten())\n",
        "model.add(Dense(1, activation='sigmoid'))"
      ],
      "execution_count": 18,
      "outputs": [
        {
          "output_type": "stream",
          "text": [
            "WARNING:tensorflow:From /usr/local/lib/python3.6/dist-packages/keras/backend/tensorflow_backend.py:66: The name tf.get_default_graph is deprecated. Please use tf.compat.v1.get_default_graph instead.\n",
            "\n",
            "WARNING:tensorflow:From /usr/local/lib/python3.6/dist-packages/keras/backend/tensorflow_backend.py:541: The name tf.placeholder is deprecated. Please use tf.compat.v1.placeholder instead.\n",
            "\n",
            "WARNING:tensorflow:From /usr/local/lib/python3.6/dist-packages/keras/backend/tensorflow_backend.py:4432: The name tf.random_uniform is deprecated. Please use tf.random.uniform instead.\n",
            "\n",
            "WARNING:tensorflow:From /usr/local/lib/python3.6/dist-packages/keras/backend/tensorflow_backend.py:190: The name tf.get_default_session is deprecated. Please use tf.compat.v1.get_default_session instead.\n",
            "\n",
            "WARNING:tensorflow:From /usr/local/lib/python3.6/dist-packages/keras/backend/tensorflow_backend.py:197: The name tf.ConfigProto is deprecated. Please use tf.compat.v1.ConfigProto instead.\n",
            "\n",
            "WARNING:tensorflow:From /usr/local/lib/python3.6/dist-packages/keras/backend/tensorflow_backend.py:203: The name tf.Session is deprecated. Please use tf.compat.v1.Session instead.\n",
            "\n",
            "WARNING:tensorflow:From /usr/local/lib/python3.6/dist-packages/keras/backend/tensorflow_backend.py:207: The name tf.global_variables is deprecated. Please use tf.compat.v1.global_variables instead.\n",
            "\n",
            "WARNING:tensorflow:From /usr/local/lib/python3.6/dist-packages/keras/backend/tensorflow_backend.py:216: The name tf.is_variable_initialized is deprecated. Please use tf.compat.v1.is_variable_initialized instead.\n",
            "\n",
            "WARNING:tensorflow:From /usr/local/lib/python3.6/dist-packages/keras/backend/tensorflow_backend.py:223: The name tf.variables_initializer is deprecated. Please use tf.compat.v1.variables_initializer instead.\n",
            "\n"
          ],
          "name": "stdout"
        }
      ]
    },
    {
      "cell_type": "code",
      "metadata": {
        "id": "Duc2IHL1XS2l",
        "colab_type": "code",
        "colab": {
          "base_uri": "https://localhost:8080/",
          "height": 426
        },
        "outputId": "531d946c-6ff9-4478-c746-5c69e0851a9d"
      },
      "source": [
        "model.compile(optimizer='adam', loss='binary_crossentropy', metrics=['acc'])\n",
        "print(model.summary())"
      ],
      "execution_count": 19,
      "outputs": [
        {
          "output_type": "stream",
          "text": [
            "WARNING:tensorflow:From /usr/local/lib/python3.6/dist-packages/keras/optimizers.py:793: The name tf.train.Optimizer is deprecated. Please use tf.compat.v1.train.Optimizer instead.\n",
            "\n",
            "WARNING:tensorflow:From /usr/local/lib/python3.6/dist-packages/keras/backend/tensorflow_backend.py:3657: The name tf.log is deprecated. Please use tf.math.log instead.\n",
            "\n",
            "WARNING:tensorflow:From /usr/local/lib/python3.6/dist-packages/tensorflow_core/python/ops/nn_impl.py:183: where (from tensorflow.python.ops.array_ops) is deprecated and will be removed in a future version.\n",
            "Instructions for updating:\n",
            "Use tf.where in 2.0, which has the same broadcast rule as np.where\n",
            "Model: \"sequential_1\"\n",
            "_________________________________________________________________\n",
            "Layer (type)                 Output Shape              Param #   \n",
            "=================================================================\n",
            "embedding_1 (Embedding)      (None, 100, 100)          9254700   \n",
            "_________________________________________________________________\n",
            "flatten_1 (Flatten)          (None, 10000)             0         \n",
            "_________________________________________________________________\n",
            "dense_1 (Dense)              (None, 1)                 10001     \n",
            "=================================================================\n",
            "Total params: 9,264,701\n",
            "Trainable params: 10,001\n",
            "Non-trainable params: 9,254,700\n",
            "_________________________________________________________________\n",
            "None\n"
          ],
          "name": "stdout"
        }
      ]
    },
    {
      "cell_type": "code",
      "metadata": {
        "id": "GSXGnjqbXjpH",
        "colab_type": "code",
        "colab": {
          "base_uri": "https://localhost:8080/",
          "height": 338
        },
        "outputId": "7a9e8a29-9e8b-40f8-ae2b-e6861451285a"
      },
      "source": [
        "hist = model.fit(X_train, y_train, batch_size=128, epochs=6, verbose=1,\n",
        "                validation_split=0.2)"
      ],
      "execution_count": 20,
      "outputs": [
        {
          "output_type": "stream",
          "text": [
            "WARNING:tensorflow:From /usr/local/lib/python3.6/dist-packages/keras/backend/tensorflow_backend.py:1033: The name tf.assign_add is deprecated. Please use tf.compat.v1.assign_add instead.\n",
            "\n",
            "WARNING:tensorflow:From /usr/local/lib/python3.6/dist-packages/keras/backend/tensorflow_backend.py:1020: The name tf.assign is deprecated. Please use tf.compat.v1.assign instead.\n",
            "\n",
            "Train on 32000 samples, validate on 8000 samples\n",
            "Epoch 1/6\n",
            "32000/32000 [==============================] - 1s 40us/step - loss: 0.6103 - acc: 0.6657 - val_loss: 0.5354 - val_acc: 0.7331\n",
            "Epoch 2/6\n",
            "32000/32000 [==============================] - 1s 27us/step - loss: 0.5008 - acc: 0.7582 - val_loss: 0.5487 - val_acc: 0.7236\n",
            "Epoch 3/6\n",
            "32000/32000 [==============================] - 1s 27us/step - loss: 0.4610 - acc: 0.7828 - val_loss: 0.5164 - val_acc: 0.7512\n",
            "Epoch 4/6\n",
            "32000/32000 [==============================] - 1s 26us/step - loss: 0.4359 - acc: 0.7995 - val_loss: 0.5220 - val_acc: 0.7462\n",
            "Epoch 5/6\n",
            "32000/32000 [==============================] - 1s 26us/step - loss: 0.4228 - acc: 0.8078 - val_loss: 0.5280 - val_acc: 0.7440\n",
            "Epoch 6/6\n",
            "32000/32000 [==============================] - 1s 26us/step - loss: 0.4137 - acc: 0.8112 - val_loss: 0.5341 - val_acc: 0.7439\n"
          ],
          "name": "stdout"
        }
      ]
    },
    {
      "cell_type": "code",
      "metadata": {
        "id": "SUUTLCBJX2Ki",
        "colab_type": "code",
        "colab": {
          "base_uri": "https://localhost:8080/",
          "height": 35
        },
        "outputId": "5e093447-f68a-4085-ffc7-ab07530d7c28"
      },
      "source": [
        "score = model.evaluate(X_test, y_test, verbose=1)"
      ],
      "execution_count": 22,
      "outputs": [
        {
          "output_type": "stream",
          "text": [
            "10000/10000 [==============================] - 0s 45us/step\n"
          ],
          "name": "stdout"
        }
      ]
    },
    {
      "cell_type": "code",
      "metadata": {
        "id": "WMJB9XM6X-yq",
        "colab_type": "code",
        "colab": {
          "base_uri": "https://localhost:8080/",
          "height": 52
        },
        "outputId": "b634bc05-7f1b-4024-a79f-1c3fc0877ef9"
      },
      "source": [
        "print(\"Test score:\", score[0])\n",
        "print(\"Train score:\", score[1])"
      ],
      "execution_count": 23,
      "outputs": [
        {
          "output_type": "stream",
          "text": [
            "Test score: 0.5334439926147461\n",
            "Train score: 0.7434\n"
          ],
          "name": "stdout"
        }
      ]
    },
    {
      "cell_type": "code",
      "metadata": {
        "id": "4t9qn4QKYhT1",
        "colab_type": "code",
        "colab": {
          "base_uri": "https://localhost:8080/",
          "height": 573
        },
        "outputId": "cecbd25b-a760-46e9-c997-26ca38daaa93"
      },
      "source": [
        "import matplotlib.pyplot as plt\n",
        "%matplotlib inline\n",
        "\n",
        "plt.title('model accuracy')\n",
        "plt.ylabel('accuracy')\n",
        "plt.xlabel('epoch')\n",
        "plt.legend(['train', 'test'], loc='upper right')\n",
        "plt.show()\n",
        "\n",
        "plt.plot(hist.history['loss'])\n",
        "plt.plot(hist.history['val_loss'])\n",
        "\n",
        "plt.title('model loss')\n",
        "plt.ylabel('loss')\n",
        "plt.xlabel('epoch')\n",
        "plt.legend(['train', 'test'], loc='upper left')\n",
        "plt.show()"
      ],
      "execution_count": 26,
      "outputs": [
        {
          "output_type": "display_data",
          "data": {
            "image/png": "iVBORw0KGgoAAAANSUhEUgAAAYoAAAEWCAYAAAB42tAoAAAABHNCSVQICAgIfAhkiAAAAAlwSFlz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\nnQwKSVIng0KS1MmgkCR1MigkSZ3+P4EOkO/brPU/AAAAAElFTkSuQmCC\n",
            "text/plain": [
              "<Figure size 432x288 with 1 Axes>"
            ]
          },
          "metadata": {
            "tags": []
          }
        },
        {
          "output_type": "display_data",
          "data": {
            "image/png": "iVBORw0KGgoAAAANSUhEUgAAAY4AAAEWCAYAAABxMXBSAAAABHNCSVQICAgIfAhkiAAAAAlwSFlz\nAAALEgAACxIB0t1+/AAAADh0RVh0U29mdHdhcmUAbWF0cGxvdGxpYiB2ZXJzaW9uMy4xLjIsIGh0\ndHA6Ly9tYXRwbG90bGliLm9yZy8li6FKAAAgAElEQVR4nO3dd3yV9fn/8deVDVlAElYSNggIChIQ\nHDiZKmrdg2pbxQ6/0qpYbatt7VDb/lytWke1bqVaFSuKqAwHK0DY08hIWCEQICE71++P+w4cQgg5\n4ZzcSc71fDzOIzn3Otdty3nn8/nc9/0RVcUYY4yprzCvCzDGGNO8WHAYY4zxiwWHMcYYv1hwGGOM\n8YsFhzHGGL9YcBhjjPGLBYcxQSQi/xaRP9Zz200icuGJHseYYLPgMMYY4xcLDmOMMX6x4DAhz+0i\nmiIiy0WkSET+JSIdRORjETkgIp+JSFuf7SeIyCoRKRCR2SLSz2fdYBFZ4u73NhBT47MuFpEsd99v\nROSUBtZ8q4hsFJE9IjJNRDq7y0VEHhORXSKyX0RWiMgAd914EVnt1pYrInc36D+YCXkWHMY4rgBG\nAX2AS4CPgV8BKTj/Tu4AEJE+wJvAz91104EPRSRKRKKA94FXgXbAf9zj4u47GHgRuA1IAp4FpolI\ntD+Fisj5wEPA1UAnYDPwlrt6NDDSPY9Ed5t8d92/gNtUNR4YAHzhz+caU82CwxjH31V1p6rmAl8C\nC1R1qaqWAO8Bg93trgE+UtWZqloO/A1oBZwBDAcigcdVtVxV3wEW+XzGJOBZVV2gqpWq+jJQ6u7n\njxuAF1V1iaqWAvcBI0SkG1AOxAN9AVHVNaq63d2vHOgvIgmquldVl/j5ucYAFhzGVNvp83txLe/j\n3N874/yFD4CqVgFbgVR3Xa4e+eTQzT6/dwXucrupCkSkAEh39/NHzRoKcVoVqar6BfAP4Clgl4g8\nJyIJ7qZXAOOBzSIyR0RG+Pm5xgAWHMb4axtOAADOmALOl38usB1IdZdV6+Lz+1bgT6raxufVWlXf\nPMEaYnG6vnIBVPVJVR0C9MfpspriLl+kqpcC7XG61Kb6+bnGABYcxvhrKnCRiFwgIpHAXTjdTd8A\n84AK4A4RiRSR7wHDfPZ9HvixiJzuDmLHishFIhLvZw1vAj8QkUHu+MifcbrWNonIUPf4kUARUAJU\nuWMwN4hIotvFth+oOoH/DiaEWXAY4wdVXQfcCPwd2I0zkH6JqpapahnwPeBmYA/OeMh/ffbNBG7F\n6UraC2x0t/W3hs+A+4F3cVo5PYFr3dUJOAG1F6c7Kx/4q7tuIrBJRPYDP8YZKzHGb2ITORljjPGH\ntTiMMcb4xYLDGGOMXyw4jDHG+MWCwxhjjF8ivC6gMSQnJ2u3bt28LsMYY5qVxYsX71bVlJrLQyI4\nunXrRmZmptdlGGNMsyIim2tbbl1Vxhhj/GLBYYwxxi8WHMYYY/wSEmMctSkvLycnJ4eSkhKvSwmq\nmJgY0tLSiIyM9LoUY0wLEbLBkZOTQ3x8PN26dePIh5m2HKpKfn4+OTk5dO/e3etyjDEtRMh2VZWU\nlJCUlNRiQwNAREhKSmrxrSpjTOMK2eAAWnRoVAuFczTGNK6QDo7j2VdcTn5hqddlGGNMk2LBUYeC\ng2Vs31dCeWXg57spKCjg6aef9nu/8ePHU1BQEPB6jDGmviw46tAxIQZV2Lk/8GMExwqOioqKOveb\nPn06bdq0CXg9xhhTXyF7VVV9REeGkxQXRX5hKclx0cREhgfs2Pfeey/ffvstgwYNIjIykpiYGNq2\nbcvatWtZv349l112GVu3bqWkpITJkyczadIk4PDjUwoLCxk3bhxnnXUW33zzDampqXzwwQe0atUq\nYDUaY0xtLDiA33+4itXb9te6ToHisgrCRPwKjv6dE/jtJScfc/3DDz/MypUrycrKYvbs2Vx00UWs\nXLny0GWzL774Iu3ataO4uJihQ4dyxRVXkJSUdMQxNmzYwJtvvsnzzz/P1VdfzbvvvsuNN95Y7xqN\nMaYhrKvqOASIDA+jskqprAreNLvDhg074l6LJ598klNPPZXhw4ezdetWNmzYcNQ+3bt3Z9CgQQAM\nGTKETZs2Ba0+Y4ypZi0OqLNlAFBVpazfeYDwMKFX+7igXOIaGxt76PfZs2fz2WefMW/ePFq3bs25\n555b670Y0dHRh34PDw+nuLg44HUZY0xN1uKoh7AwoUNiDMXllRQUlwfkmPHx8Rw4cKDWdfv27aNt\n27a0bt2atWvXMn/+/IB8pjHGBEJQg0NExorIOhHZKCL3HmObq0VktYisEpE3fJbfJCIb3NdNPsuH\niMgK95hPSiPd4damVSStIsPZua+EqgB0WSUlJXHmmWcyYMAApkyZcsS6sWPHUlFRQb9+/bj33nsZ\nPnz4CX+eMcYEiqgGp99eRMKB9cAoIAdYBFynqqt9tukNTAXOV9W9ItJeVXeJSDsgE8jAGZ9eDAxx\nt1kI3AEsAKYDT6rqx3XVkpGRoTUnclqzZg39+vXz65wKS8rJ3l1Ex8QY2sfH+LWvlxpyrsYYIyKL\nVTWj5vJgtjiGARtVNVtVy4C3gEtrbHMr8JSq7gVQ1V3u8jHATFXd466bCYwVkU5AgqrOVyfxXgEu\nC+I5HCEuJpKEmEjy9pdSEYSbAo0xpjkIZnCkAlt93ue4y3z1AfqIyNciMl9Exh5n31T397qOGVQd\nE2OoUmXXAXsUiTEmNHl9VVUE0Bs4F0gD5orIwEAcWEQmAZMAunTpEohDAhATGU7b2CjyC8tIio0i\nOoA3BRpjTHMQzBZHLpDu8z7NXeYrB5imquWq+h3OmEjvOvbNdX+v65gAqOpzqpqhqhkpKSkndCI1\ndUiIQQR2BOFRJMYY09QFMzgWAb1FpLuIRAHXAtNqbPM+TmsDEUnG6brKBmYAo0WkrYi0BUYDM1R1\nO7BfRIa7V1N9H/ggiOdQq8jwMFLio9lXXE5Rad3PljLGmJYmaMGhqhXA7TghsAaYqqqrRORBEZng\nbjYDyBeR1cAsYIqq5qvqHuAPOOGzCHjQXQbwU+AFYCPwLVDnFVXBkhwXTWR4GNv3lRCsK9OMMaYp\nCup9HKo6XVX7qGpPVf2Tu+wBVZ3m/q6qeqeq9lfVgar6ls++L6pqL/f1ks/yTFUd4B7zdvXoWzs8\nTOiQEMPBsgr2NeCmwIY+Vh3g8ccf5+DBgw3a1xhjTpTdOX4C2raOJCYynB37S6jyM78sOIwxzZXX\nV1U1ayJCp8QYvttdRH5hGSnx0cffyeX7WPVRo0bRvn17pk6dSmlpKZdffjm///3vKSoq4uqrryYn\nJ4fKykruv/9+du7cybZt2zjvvPNITk5m1qxZQTxDY4w5mgUHwMf3wo4VDdo1HuhdXkmVKhoVjuA+\nAaXjQBj38DH3832s+qeffso777zDwoULUVUmTJjA3LlzycvLo3Pnznz00UeA8wyrxMREHn30UWbN\nmkVycnKDajbGmBNhXVUBEBURhiqUNfBu8k8//ZRPP/2UwYMHc9ppp7F27Vo2bNjAwIEDmTlzJr/8\n5S/58ssvSUxMDHDlxhjjP2txQJ0tg/oIB/buOUhBcTkndYgjKsK/mwJVlfvuu4/bbrvtqHVLlixh\n+vTp/OY3v+GCCy7ggQceOKFajTHmRFmLI0A6JMQgwI599XsUie9j1ceMGcOLL75IYWEhALm5ueza\ntYtt27bRunVrbrzxRqZMmcKSJUuO2tcYYxqbtTgCJCoijOS4aHYdKCG5LIrWUXX/p/V9rPq4ceO4\n/vrrGTFiBABxcXG89tprbNy4kSlTphAWFkZkZCTPPPMMAJMmTWLs2LF07tzZBseNMY0uaI9Vb0oC\n9Vj146msUtbtOEB0ZBg9kmODMlNgQ9hj1Y0xDeHFY9VDjnNTYDRFpRXsL7FHkRhjWiYLjgBrFxtF\ndEQ4O/b5f1OgMcY0ByEdHMHopqu+KbC0opK9RWUBP76/QqEr0hjTuEI2OGJiYsjPzw/KF2t8TASx\n0RHs3F9KZZV3MwWqKvn5+cTENJ9pbo0xTV/IXlWVlpZGTk4OeXl5QTl+WUUVuw6Usn9HBImtIoPy\nGfURExNDWlra8Tc0xph6CtngiIyMpHv37kH9jMlvLeWTlbnMuvtcOrdpFdTPMsaYxhKyXVWN4e7R\nJ6HA//t0vdelGGNMwFhwBFF6u9b84Ixu/HdpDqu27fO6HGOMCQgLjiD76Xm9SGwVyZ+nr7ErnIwx\nLUJQg0NExorIOhHZKCL31rL+ZhHJE5Es93WLu/w8n2VZIlIiIpe56/4tIt/5rBsUzHM4UYmtIrnj\n/N58vTGf2euDMxBvjDGNKWjBISLhwFPAOKA/cJ2I9K9l07dVdZD7egFAVWdVLwPOBw4Cn/rsM8Vn\nn6xgnUOg3Di8K12TWvPQ9DVUNPDR68YY01QEs8UxDNioqtmqWga8BVzagONcCXysqs12rtSoiDB+\nObYv63cW8s7iHK/LMcaYExLM4EgFtvq8z3GX1XSFiCwXkXdEJL2W9dcCb9ZY9id3n8dEpNb5WkVk\nkohkikhmsO7V8Me4AR05rUsbHp25nqJSe46VMab58npw/EOgm6qeAswEXvZdKSKdgIHADJ/F9wF9\ngaFAO+CXtR1YVZ9T1QxVzUhJSQlG7X4REX59UT92HSjl+S+zvS7HGGMaLJjBkQv4tiDS3GWHqGq+\nqlbPfPQCMKTGMa4G3lPVcp99tqujFHgJp0usWRjStR3jB3bkubnZ7Npf4nU5xhjTIMEMjkVAbxHp\nLiJROF1O03w3cFsU1SYAa2oc4zpqdFNV7yPOZBeXASsDXHdQ3TOmL+WVVTz2md0UaIxpnoIWHKpa\nAdyO0820BpiqqqtE5EERmeBudoeIrBKRZcAdwM3V+4tIN5wWy5wah35dRFYAK4Bk4I/BOodg6JYc\ny43Du/L2oq2s32nTvxpjmp+QnQHQS3uLyhj511lkdG3LSz9oNj1txpgQYzMANiFtY6O4/bxezFqX\nx9cbd3tdjjHG+MWCwyM3ndGN1Dat+PP0NVRVtfxWnzGm5bDg8EhMZDj3jD2JVdv2835W7vF3MMaY\nJsKCw0OXnNKZgamJ/G3GOkrKK70uxxhj6sWCw0NhYcKvxvdj274SXvz6O6/LMcaYerHg8NiInklc\n2K89T8/6lvzC0uPvYIwxHrPgaALuHdeX4vJKnvx8g9elGGPMcVlwNAG92sdz7dB0Xl+whW/zCr0u\nxxhj6mTB0UT8/MI+REeE8cjHa70uxRhj6mTB0USkxEfz43N68unqnSz8bo/X5RhjzDFZcDQht5zd\ngw4J0fzJ5ic3xjRhFhxNSKuocO4afRLLthbwv+XbvS7HGGNqZcHRxFxxWhp9O8bzyCdrKa2wmwKN\nMU2PBUcTE+7eFJizt5hX5232uhxjjDmKBUcTNLJPCiP7pPDk5xsoOFjmdTnGGHMEC44m6lfj+1JY\nWsE/vtjodSnGGHOEoAaHiIwVkXUislFE7q1l/c0ikiciWe7rFp91lT7Lp/ks7y4iC9xjvu1OS9vi\n9O2YwJVD0nh53ia25B/0uhxjjDkkaMEhIuHAU8A4oD9wnYj0r2XTt1V1kPt6wWd5sc/yCT7LHwEe\nU9VewF7gR8E6B6/dOeokIsLC+MsMuynQGNN0BLPFMQzYqKrZqloGvAVceiIHFBEBzgfecRe9DFx2\nQlU2YR0TY7j17O78b/l2lm7Z63U5xhgDBDc4UoGtPu9z3GU1XSEiy0XkHRFJ91keIyKZIjJfRKrD\nIQkoUNWK4xwTEZnk7p+Zl5d3gqfinUnn9CQ5Lpo/B/umwMJdsHY6fP4HyHoDKiuOv48xJiRFePz5\nHwJvqmqpiNyG04I4313XVVVzRaQH8IWIrAD21ffAqvoc8BxARkZGs70NOy46gl+M6s2v31vJjFU7\nGTug44kftKIMdq6AnEzYuhByFkFB9aW/Aih89Ricfz/0uwRETvwzjTEtRjCDIxfwbUGkucsOUdV8\nn7cvAH/xWZfr/swWkdnAYOBdoI2IRLitjqOO2RJdk5HOS19v4pFP1nJBv/ZEhvvZUNyX64RD9Wtb\nFlS6c3/Ed4b0oTDsVkgbCh1PgW8/h88fhKkTITUDLvwddD870KdljGmmghkci4DeItId58v9WuB6\n3w1EpJOqVj9bYwKwxl3eFjjotkSSgTOBv6iqisgs4EqcMZObgA+CeA5NQkR4GPeN68uPXs7kjQVb\nuOmMbsfeuLwYti9zAmLrQqdVcWCbsy48GjoPPhwSaUMhsZaevn6XQJ9xsOwNmPUQvHwx9LwALvwt\ndDo1KOdojGk+JJj95iIyHngcCAdeVNU/iciDQKaqThORh3ACowLYA/xEVdeKyBnAs0AVzjjM46r6\nL/eYPXBCox2wFLhRVeucOi8jI0MzMzODc5KNRFW5/vkFrNt5gNlTziUhJhJUYe8mJxxy3C6nHSug\nyh2faNMV0oe5IZEBHQZChJ9XL5cXw8Ln4cv/ByUFMOBKOP/X0K5HwM/RGNO0iMhiVc04ankoPIW1\nJQQHwKrsXP74wuv8uOcezmm1yQmKg7udlZGxkHra4ZZEWgbEtQ/chxcXwNdPwPxnoKochvwARk6B\n+A6B+wxjTJNiwdHcgqOqCvI3Hm5J5GTCrtWgVQCUt+1NZNdhTkCkDYWUfhDeCNc6HNgBcx6BxS9D\nRDSM+Bmc8X8Qkxj8zzbGNCoLjqYeHMV7IWfx4QHs3EwocS8ii048FBB5bQYy/t1izh7Ym0evGeRd\nvfnfwhd/gFXvQat2cPZdMPQWiIzxriZjTEBZcDSl4KiqhF1r3NZEphMUu9c76yQM2vc/3JJIGwpJ\nvSHs8JVUD3+8lmfnfsuHt5/FgFSP/9LfthQ++z1kz4LEdDj3Pjj1WggL97YuY8wJs+DwMjgK85wW\nRPU9E9uWQlmhs651EqT5dDmlngbR8XUebn9JOef8ZRb9OiXw+i2nI03hPovs2fDZ75xzS+kLFzwA\nJ423e0CMacaOFRxe3wDY8lSUwc6VR943sXeTsy4sAjoOhEHXHx7Abtvd7y/XhJhIJl/Qm999uJrZ\n6/I4r28AB8Ebqse5cOssWP2B04X11vWQfrpzD0jXM7ytzRgTUNbiOFH7tx1uSeRkwvYsqChx1sV3\n8rnKaahzD0RU64B8bFlFFaMfm0NkeBgfTz6bCH9vCgymynJY+poziH5gO/Qe47RAOg7wujJjjB+s\nqyoQwVFe4gTDodZEJux3b1wPj4bOgw63JNKGQmLaiX9mHT5ZuZ0fv7aEh743kOuGdQnqZzVI2UFY\n+Kzz+JKS/XDK1XDer6BtN68rM8bUgwVHQ4Jj72af1kT1zXXlzro2XY9sTXQc4Fye2ohUlav+OY9N\n+QeZM+VcYqObaM9j8V4nPBY861wYkPFD5x6QuBSvKzPG1MGCoyHB8fIE+G4ORLaG1CE+A9gZTebG\ntyVb9vK9p7/hjgt6c+eoPl6XU7f922D2w043VmQrGHE7nHH7cS8GMMacANUGX6RiwdGQ4MhdDGGR\nzuWxjXFzXQP97PUlfLF2F7OnnEuHhGZwH8XuDc4A+uoPnKvKRk5xWiGN3GIzplkrL4HCHc5Nufu3\nOT8PbK/xcwf85KsGdw9bcDSl+zgCbHN+ERc+OofvDU7jkStP8bqc+std7FzC+91caNMFzvs1DLzK\n7gExoa2yAgp3+gSATwgc8AmI4lomdwuPhviOzoU51T/PvAMSOjeoFAuOFhwcAA9+uJp/f/Md0yef\nTd+OCV6XU3+q8O0XToDsWA7tT3auwOozxu4BMS1LVRUczPcJgmO0Egp3ATW+lyUc4jocDoOETkcH\nRHwnaNU2oP9uLDhaeHDsLSrjnL/OYnCXtrz8w2Fel+O/qipY/R588UfYkw1dRjj3gHQZ7nVlxtRN\n1Xk80BGtA5+f+6sDYcfhJ1f7ap1cRxh0dObMiU32pCVuNwC2cG1jo7j9/F78efpavtyQx9m9m9kV\nS2FhMOAK6DcBlrwMc/4CL45x5gW54AHo0N/rCk0oKis6RhDUCIiK4qP3jUk8/OWffPaRLYPq5XEd\n/J/qoAmwFkcLUlJeyYWPziE+JpL//d9ZhIc1466esiLnEe5fPwGlB+DU6+C8+5yxEGNOVEWpM45Q\nWwj4/izdf/S+Ea3c1kGNbqIjWgkdISq28c8rwKyrKgSCA+CDrFwmv5XF3646lSuHBPcGxEZxcI8z\nidTC5wF1nsB79t0Qm+R1ZaYpqg6EAzsPX3FU/Tr0frsz1lBTWOThL/1aw8DtTopOCJnxN0+CQ0TG\nAk/gzAD4gqo+XGP9zcBfOTxv+D9U9QURGQQ8AyQAlcCfVPVtd59/A+cA7jPHuVlVs+qqI5SCo6pK\nufzpr9m5v5RZd59Lq6gWcoXSvhyY/RBkveFMWnXmHTD8pxAd53VlpjEcuvR0p/PFf+iqox1HBkTx\nnqP3lTCIbe/cexXfufYwiO/kTA8Q1oQe3dMENHpwiEg4sB4YBeTgzEF+naqu9tnmZiBDVW+vsW8f\nQFV1g4h0BhYD/VS1wA2O/6nqO/WtJZSCA2BBdj7XPDefKWNO4mfn9fK6nMDatda5B2Tt/yA2BUbe\nA0Nubpb9xAbnsTRHBcL2o1sMJQVH73vElUbuK66jGxCdDq+LTbFLvBvIi8HxYcBGVc12C3gLuBRY\nXedegKqu9/l9m4jsAlKAWv7fY2o6vUcSo/p34JnZ33LN0HSS41rQjXXt+8K1r8PWRc4lvB9PgflP\nwXm/cQbX7S/GpqG00CcEdhwjEHZC6b6j963uMorrAEm9oNtZbiB0PLw8vpNz86j97+2JYLY4rgTG\nquot7vuJwOm+rQu3xfEQkIfTOvmFqm6tcZxhwMvAyapa5bY4RgClwOfAvapaWsvnTwImAXTp0mXI\n5s2bA36OTdm3eYWMfmwu1w/rwh8ua6FPpVWFjZ85E0ntXAEdBsKFv4VeF4ZMH3SjUnUuVDhWq+BQ\nt9FOKDtw9P7h0Ue3Bo5qJXR07kWwQGgSvOiqqk9wJAGFqloqIrcB16jq+T7rOwGzgZtUdb7Psh1A\nFPAc8K2qPlhXLaHWVVXt/vdX8sbCLcz4+Uh6tW/BYwFVVbDyXacLq2AzdD3LuQckfajXlTUP1fch\n+AbCscYRyg8evX9Eq6NbA/Edjm4lBPjmNBN8XnRV5QLpPu/TODwIDoCq+l7a8ALwl+o3IpIAfAT8\nujo03H22u7+WishLwN0BrrvFmHxhb95bmssjn6zl+e8f9b99yxEWBqdcBf0vhcX/hrl/gX9dCH0v\ndu4BSTnJ6wq9UVHq3IVctMv5Wf0q2nX0lUfVc8j4iow9/MXfeXDt4wfxHUPqKiPjCGZwLAJ6i0h3\nnMC4FrjedwMR6eQTBBOANe7yKOA94JWag+DV+4gzX+plwMognkOzlhwXzU/O7clfZ6xjQXY+p/do\n4ZewRkTB6ZOcGRbnPw1fPwnrhsOp1zv3gAR5fpRGUVkORXlHh0BhnvvTZ1lJLeMH4NyYFtve+dJP\nG+rTSqjRYrCnFptjCPbluOOBx3Eux31RVf8kIg8Cmao6TUQewgmMCmAP8BNVXSsiNwIvAat8Dnez\nqmaJyBc4A+UCZAE/VtXCuuoI1a4qgOKySs7722w6JETz3k/PJKw53xTor6Ldzj0gi14ABIbdCmff\nBa3beV3ZkaoqnVoLdx67dVAdDLVdbgrOX/2xKc4Xf5z7M7Y9xPm8qt/bU4hNPdkNgCEaHADvLM7h\n7v8s44lrB3HpoFSvy2l8BVtg1kOw7E3nr+gzJ8PwnwT3zt7qB9rV/OKvLRiKdnPUQ+3A6So66ov/\nGMEQ2Sp452JClgVHCAdHZZVy8d+/Yn9xOZ/fdQ4xkSF6TfvO1c4A+rrpzhfvOffAaTdBeGT99ld1\nHmVd6IZBUXX3UC3BULQbtPLoY0TEuF/2x2oRuMEQ295ubjSeO6HgEJHJOF1HB3AGsQfjXAb7aaAL\nDYZQDw6Arzbs5sZ/LeBX4/syaWRPr8vx1pb5zj0gW+ZB2+5w/m+g4yn1aB3kHZ462Fd4lBsEdXUV\nueuj420g2TQbJxocy1T1VBEZA9wG3A+8qqqnBb7UwLPgcNz80kKWbN7LnCnn0TY2xO+0VoX1M+Dz\n38OuWu5JDYtwv/irw6COrqKYRAsD0yKd6OW41f8qxuMExir3qibTjNw3rh/jnpjL37/YyAOXhPhj\nykXgpLHQexSs/8R59IVv6yCmjd2EZswx1Dc4FovIp0B34D4RiQeqgleWCYaTOsZzdUY6r87fxE1n\ndKVrUvN/7PMJCwuHvhd5XYUxzUp9/6T6EXAvMFRVDwKRwA+CVpUJmjtH9SEiLIy/fLLO61KMMc1U\nfYNjBLDOfTrtjcBvOPxYc9OMtE+IYdLIHny0YjuLN9cy2b0xxhxHfYPjGeCgiJwK3AV8C7wStKpM\nUE0a2YOU+Gj+PH0NoXA5tjEmsOobHBXqfMNcijPZ0lOAPY+gmYqNjuDOUX1YvHkvn6zc4XU5xphm\npr7BcUBE7gMmAh+JSBjOOIdppq4akkbv9nE88slayirsOgdjTP3VNziuwZn/4oequgPnSbd/DVpV\nJugiwsP41fh+bMo/yOsLQmuuEmPMialXcLhh8TqQKCIXAyWqamMczdy5J6VwRs8knvx8A/uKa7kj\n2hhjalGv4BCRq4GFwFXA1cACd6Im04yJCL8a34+C4nKenr3R63KMMc1Efbuqfo1zD8dNqvp9nPnE\n7w9eWaaxDEhN5PJBqbz09SZy9tYyu5sxxtRQ3+AIU9VdPu/z/djXNHF3jTkJAf42w24KNMYcX32/\n/D8RkRkicrOI3Iwzpev04JVlGlNqm1b88KzuvJ+1jRU5dl+nMaZu9R0cnwI8B5zivp5T1V8ebz8R\nGSsi60Rko4jcW8v6m0UkT0Sy3NctPutuEpEN7usmn+VDRGSFe8wn7WGLgfGTc3vSLjaKP01fbTcF\nGmPqVO/uJlV9V1XvdF/vHW97EQkHngLGAf2B60Sktkeyvq2qg9zXC+6+7YDfAqfjjKf8VkTauts/\nA9wK9HZfY+t7DubYEmIimXxBb+Zn7+HT1Tu9LscY04TVGRwickBE9tfyOiAi+49z7GHARlXNVtUy\n4C2cO8/rYwwwU1X3qOpeYLIjAgkAABcYSURBVCYwVkQ6AQmqOt+9k/0V4LJ6HtMcx/Wnd6FX+zh+\n9voSHpu53m4MNMbUqs7gUNV4VU2o5RWvqgnHOXYqsNXnfY67rKYrRGS5iLwjIunH2TfV/f14x0RE\nJolIpohk5uXlHadUAxAZHsbU20Zw8SmdeOLzDUz4x1cszynwuixjTBPj9ZVRHwLdVPUUnFbFy4E6\nsKo+p6oZqpqRkpISqMO2eO1io3j82sG88P0M9h4s47Knvubhj9dSUl7L/NnGmJAUzODIBdJ93qe5\nyw5R1XxVLXXfvgAMOc6+ue7vxzymCYwL+3fg01+cw1VD0vnnnG8Z/+SXLN68x+uyjDFNQDCDYxHQ\nW0S6i0gUcC0wzXcDd8yi2gRgjfv7DGC0iLR1B8VHAzNUdTuwX0SGu1dTfR/4IIjnENISW0XyyJWn\n8OqPhlFaXsWV/5zH7z9cxcGyCq9LM8Z4KGjBoaoVwO04IbAGmOrOVf6giExwN7tDRFaJyDLgDuBm\nd989wB9wwmcR8KC7DOCnOK2TjTjzgnwcrHMwjrN7pzDjFyOZOLwrL329iTGPz+Wbjbu9LssY4xEJ\nhWv2MzIyNDMz0+syWoQF2fn88t3lbMo/yPWnd+G+cX2Jj7En7BvTEonIYlXNqLnc68Fx08yc3iOJ\njyePZNLIHry1cAujH5vLrHW7jr+jMabFsOAwfmsVFc6vxvfj3Z+cQVx0BD94aRF3TV1GwcEyr0sz\nxjQCCw7TYIO7tOV/d5zF/53fi/ezchn12FybitaYEGDBYU5IdEQ4d40+iQ9+diYpcdH8+LXF/OyN\nJewuLD3+zsaYZsmCwwTEgNREPrj9TO4e3YeZq3Yy+rG5TFu2zR6YaEwLZMFhAiYyPIzbz+/N/+44\ni/R2rbnjzaVMenUxO/eXeF2aMSaALDhMwPXpEM9/f3IGv7moH3PX53Hho3OYmrnVWh/GtBAWHCYo\nwsOEW87uwSc/H0m/Tgnc885yvv/iQpue1pgWwILDBFX35FjeunU4D156Mos372XMY3N5df5mqqqs\n9WFMc2XBYYIuLEz4/ohuzPj5SE7r2pb731/Jdc/PZ9PuIq9LM8Y0gAWHaTTp7Vrzyg+H8ZcrTmH1\n9v2MfWIuL3yZTaW1PoxpViw4TKMSEa4ems7MX5zDmT2T+eNHa7jyn9+wcdcBr0szxtSTBYfxRMfE\nGF64KYMnrh3Ept1FjH/iK56atZHySpuu1pimzoLDeEZEuHRQKjPvPIdR/Tvw1xnruPzpr1m97XjT\n2RtjvGTBYTyXHBfNUzecxjM3nMaOfaVM+MdXPDpzPWUV1vowpimy4DBNxriBnZj5i5FMOLUzT36+\ngUv+/hXLthZ4XZYxpoagBoeIjBWRdSKyUUTurWO7K0RERSTDfX+DiGT5vKpEZJC7brZ7zOp17YN5\nDqZxtY2N4tFrBvHSzUPZX1LO5U9/zUPT11BSXul1acYYV9CCQ0TCgaeAcUB/4DoR6V/LdvHAZGBB\n9TJVfV1VB6nqIGAi8J2qZvnsdkP1elW1WYRaoPP6tmfGL0ZyzdAuPDs3m3FPfMmiTXuOv6MxJuiC\n2eIYBmxU1WxVLQPeAi6tZbs/AI8Ax3oS3nXuvibEJMRE8tD3BvL6LadTXlnF1c/O43fTVlFUWuF1\nacaEtGAGRyqw1ed9jrvsEBE5DUhX1Y/qOM41wJs1lr3kdlPdLyJS204iMklEMkUkMy8vrwHlm6bi\nzF7JzPj5SG4a0Y2X521izONz+Xrjbq/LMiZkeTY4LiJhwKPAXXVsczpwUFVX+iy+QVUHAme7r4m1\n7auqz6lqhqpmpKSkBLBy44XY6Ah+N+Fkpt42gqjwMG54YQH3/Xc5+0vKvS7NmJATzODIBdJ93qe5\ny6rFAwOA2SKyCRgOTKseIHddS43Whqrmuj8PAG/gdImZEDG0WzumTz6b287pwduLtjL60bl8sXan\n12UZE1KCGRyLgN4i0l1EonBCYFr1SlXdp6rJqtpNVbsB84EJqpoJh1okV+MzviEiESKS7P4eCVwM\n+LZGTAiIiQznvnH9eO+nZ5LQKoIf/juTO9/OouBgmdelGRMSghYcqloB3A7MANYAU1V1lYg8KCIT\n6nGIkcBWVc32WRYNzBCR5UAWTgvm+QCXbpqJU9Pb8OH/ncUdF/Rm2rJtXPjoXD5Zud3rsoxp8SQU\nZmXLyMjQzMxMr8swQbR6237ueXcZK3P3c9HATvxuwsmkxEd7XZYxzZqILFbVjJrL7c5x0yL075zA\n+z89k3vGnsTM1TsZ/dgcPsjKtelqjQkCCw7TYkSEh/HTc3sxffJZdE+OZfJbWdz6SiY79h3rFiFj\nTENYcJgWp1f7eP7z4zO4/+L+fLVxN6Mem8PURVut9WFMgFhwmBYpPEz40VndmfHzkZzcOYF73l3O\n919cSM7eg16XZkyzZ8FhWrSuSbG8cctw/njZAJZs3suYx+byyrxNVNl0tcY0mAWHafHCwoQbh3fl\n0zvPYUi3djzwwSqufW4+3+0u8ro0Y5olCw4TMlLbtOLlHwzlb1edytod+xn7+Fyen5tNpbU+jPGL\nBYcJKSLClUPS+OzOcxjZJ4U/TV/DFc98w+LNe2zw3Jh6suAwIal9QgzPTRzC368bzJY9B7nimXlc\n9ORXvLlwCwfL7LHtxtTF7hw3Ia+otIIPsrbxyrxNrN1xgPiYCK44LY2JI7rSMyXO6/KM8cyx7hy3\n4DDGpaos2bKXV+dtZvqKHZRVVnFmryQmDu/Khf06EBFuDXQTWiw4LDiMH3YXlvL2oq28sWALuQXF\ndEyI4bphXbhuWDrtE2K8Ls+YRmHBYcFhGqCySpm1dhevzt/MnPV5RIQJY07uyMQRXTm9ezuOMQGl\nMS3CsYIjwotijGkuwsOEC/t34ML+Hdi0u4jXF2xmamYOH63YTu/2cUwc0ZXLB6cSHxPpdanGNBpr\ncRjjp5LySj5cto3X5m9mWc4+WkeFc/ngVCaO6Erfjglel2dMwFhXlQWHCYJlWwt4df5mPly2jdKK\nKoZ1a8eNI7oy9uSOREXYYLpp3jyZj0NExorIOhHZKCL31rHdFSKi1fONi0g3ESkWkSz39U+fbYeI\nyAr3mE+KdTIbD52a3oa/XXUq8++7gF+P78fOAyXc8eZSznj4c/42Yx25BcVel2hMwAWtxSEi4cB6\nYBSQgzMH+XWqurrGdvHAR0AUcLuqZopIN+B/qjqgluMuBO4AFgDTgSdV9eO6arEWh2ksVVXKlxt3\n8+q8zXyxdicAF/TrwMThXTmrVzJhYfZ3jmk+vBgcHwZsrJ4zXETeAi4FVtfY7g/AI8CU4x1QRDoB\nCao6333/CnAZUGdwGNNYwsKEc/qkcE6fFHL2HuSNBVt4e9FWZq7eSffkWG44vQtXDUknsbUNppvm\nK5hdVanAVp/3Oe6yQ0TkNCBdVT+qZf/uIrJUROaIyNk+x8yp65g+x54kIpkikpmXl9fgkzCmodLa\ntuaesX355r7zeeLaQSTFRvHHj9Zw+kOfcc87y1iRs8/rEo1pEM8uxxWRMOBR4OZaVm8HuqhqvogM\nAd4XkZP9Ob6qPgc8B05X1QmWa0yDRUeEc+mgVC4dlMrqbft5bcFm3l+ay9TMHE5Nb8PE4V25+JRO\nxESGe12qMfUSzBZHLpDu8z7NXVYtHhgAzBaRTcBwYJqIZKhqqarmA6jqYuBboI+7f1odxzSmSevf\nOYE/Xz6Q+b+6gN9d0p/CknLu/s8yhj/0OQ9NX8OWfJuh0DR9wRwcj8AZHL8A58t9EXC9qq46xvaz\ngbvdwfEUYI+qVopID+BLYKCq7qllcPzvqjq9rlpscNw0VarKvOx8Xpu/mRmrdlKlyjl9Upg4vCvn\nntSecBtMNx5q9MFxVa0QkduBGUA48KKqrhKRB4FMVZ1Wx+4jgQdFpByoAn6sqnvcdT8F/g20whkU\nt4Fx02yJCGf0TOaMnsns2FfCmwu38ObCLfzo5UxS27TihuFduCYjnaS4aK9LNeYQuwHQmCamvLKK\nmat38uq8zczLzicqPIyLTunEjcO7clqXNvZ8LNNo7M5xCw7TDG3YeYDXF2zh3cU5HCitoH+nBCaO\n6MqlgzrTOsoeNWeCy4LDgsM0Y0WlFbyflcur8zbbZFOm0VhwWHCYFkBVWbx5L6/O38z0Fdspr1Sb\nbMoEjQWHBYdpYfIOlDI1cyuvz9/Mtn0lNtmUCTgLDgsO00JVVilfuJNNzbXJpkwA2UROxrRQ4WHC\nqP4dGNW/A9/tLuL1+Zv5z2KbbMoEj7U4jGmBissq+XD5Nl6dt5kVuTbZlGkY66qy4DAhqnqyqWnL\ntlHmTjZ1w/AunNe3PQnWCjF1sOCw4DAhbm9RGf9ZvJXX5m9hy56DiEDPlDgGp7dhcJe2DEpvQ58O\ncXZlljnEgsOCwxjAmWxqwXd7yNy0h6VbC8jaWsCeojIAWkeFc0paIoPS2zK4SxsGp7exK7RCmA2O\nG2MAZ7KpET2TGNEzCXDuDdmy5yBLtzghsnTLXl74MpuKKuePytQ2rRjkhsjgLm04uXOiPQI+xFlw\nGBPiRISuSbF0TYrlssHOvGgl5ZWs2rafpVv2Oq2SLQV8tHw7AJHhQr9OCUd0cXVNam2X/YYQ66oy\nxtTLrv0lh7q2lm7Zy/KcfRwsqwSgbevIQyEyuEsbTk1vYwPvLYB1VRljTkj7hBjGnNyRMSd3BKCi\nsooNuwpZusUJkqytBXyxdheADby3cNbiMMYEzL7icpbnOF1bNvDe/FmLwxgTdImtIjm7dwpn904B\nbOC9pQpqcIjIWOAJnBkAX1DVh4+x3RXAO8BQd+rYUcDDQBRQBkxR1S/cbWcDnYBid/fRqrormOdh\njGmYhgy89++U4I6VOC2TLu1s4L2pCVpwiEg48BQwCsgBFonINFVdXWO7eGAyzhzi1XYDl6jqNhEZ\ngDP9bKrP+htU1fqejGmGYiLDGdK1LUO6tj20rObA+38W5/DyvM0AtIuNcoIkvQ2DbOC9SQhmi2MY\nsFFVswFE5C3gUmB1je3+ADwCTKleoKpLfdavAlqJSLSqlgaxXmOMR/wdeO+VEneoVWID740vmMGR\nCmz1eZ8DnO67gYicBqSr6kciMoXaXQEsqREaL4lIJfAu8EcNhRF+Y0JIRHgY/Tol0K9TAtef3gU4\neuD9szU7+c/iHKCWgfcubWgfbwPvweLZ4LiIhAGPAjfXsc3JOK2R0T6Lb1DVXLeL611gIvBKLftO\nAiYBdOnSJXCFG2M8UdfAe3WrxAbeG0fQLscVkRHA71R1jPv+PgBVfch9nwh8CxS6u3QE9gAT3AHy\nNOAL4Aeq+vUxPuNmIENVb6+rFrsc15jQUNvAe26Bcx1NRJjQpV1reqTE0j05lh4pce7PWFLiom0A\nvhZeXI67COgtIt2BXOBa4Prqlaq6D0j2KXA2cLcbGm2Aj4B7fUNDRCKANqq6W0QigYuBz4J4DsaY\nZqSugfflOQVk5xWRnVfE3A27KauoOrRNfHQE3asDJTmO7imx9Eh23sdG210LNQXtv4iqVojI7ThX\nRIUDL6rqKhF5EMhU1Wl17H470At4QEQecJeNBoqAGW5ohOOExvPBOgdjTPNXc+AdnCcE5xYU893u\nIrLzCp2fu4vI3LSXacu24dsR0yEh+ogw6ZHihEta21YhOyBvd44bY4yPkvJKNuUX8V2eEybZeUVk\n7y4kO6+IfcXlh7aLDHe6vronx9HTba1Ud4Elx0W1iK4vu3PcGGPqISYynL4dE2qdYndPURnf7S7k\n27yiI1orc9fnUVbp0/UVE3Goq8t3LKV7ciyto5r/127zPwNjjGkk7WKjaBfbjiFd2x2xvLJK2VZQ\n7LZQ3K6vvCIWbdrL+1nbjti2U2LMEa2T6u6v1DbNp+vLgsMYY05QeJiQ3q416e1ac06flCPWFZc5\nXV/ZeUV853Z5Ze8u4sNl29hfUnFou8hw5/Es3Q+NoxxurSTFNq2uLwsOY4wJolZR4YduZvSlquwp\nKiN7t+94itNambPuyK6vhJgIule3TpJj3YF6J1RaRTX+vSkWHMYY4wERISkumqS4aIZ2O7rrK3dv\nMd/uLnRDxQmU+dn5vLc094htOyfGHBEk1Vd9pbZtRXhYcFopFhzGGNPEhIcJXZJa0yWpNeeddOS6\ng2UVfLe76NA4SvWlxO9n5XLAp+srKjyMrkmteebGIfRqHxfQ+iw4jDGmGWkdFcHJnRM5uXPiEctV\nlfyisqPGUpJiowJegwWHMca0ACJCclw0yXHRDOve7vg7nIDmce2XMcaYJsOCwxhjjF8sOIwxxvjF\ngsMYY4xfLDiMMcb4xYLDGGOMXyw4jDHG+MWCwxhjjF9CYiInEckDNjdw92RgdwDLaQ7snEODnXPL\nd6Ln21VVU2ouDIngOBEiklnbDFgtmZ1zaLBzbvmCdb7WVWWMMcYvFhzGGGP8YsFxfM95XYAH7JxD\ng51zyxeU87UxDmOMMX6xFocxxhi/WHAYY4zxiwVHHURkrIisE5GNInKv1/UEm4i8KCK7RGSl17U0\nBhFJF5FZIrJaRFaJyGSvawo2EYkRkYUissw95997XVNjEZFwEVkqIv/zupbGICKbRGSFiGSJSGZA\nj21jHLUTkXBgPTAKyAEWAdep6mpPCwsiERkJFAKvqOoAr+sJNhHpBHRS1SUiEg8sBi5r4f8bCxCr\nqoUiEgl8BUxW1fkelxZ0InInkAEkqOrFXtcTbCKyCchQ1YDf8GgtjmMbBmxU1WxVLQPeAi71uKag\nUtW5wB6v62gsqrpdVZe4vx8A1gCp3lYVXOoodN9Guq8W/9ejiKQBFwEveF1LS2DBcWypwFaf9zm0\n8C+VUCYi3YDBwAJvKwk+t8smC9gFzFTVFn/OwOPAPUCV14U0IgU+FZHFIjIpkAe24DAhT0TigHeB\nn6vqfq/rCTZVrVTVQUAaMExEWnS3pIhcDOxS1cVe19LIzlLV04BxwM/cruiAsOA4tlwg3ed9mrvM\ntCBuP/+7wOuq+l+v62lMqloAzALGel1LkJ0JTHD7/N8CzheR17wtKfhUNdf9uQt4D6f7PSAsOI5t\nEdBbRLqLSBRwLTDN45pMALkDxf8C1qjqo17X0xhEJEVE2ri/t8K5+GOtt1UFl6rep6ppqtoN59/x\nF6p6o8dlBZWIxLoXfCAiscBoIGBXS1pwHIOqVgC3AzNwBk2nquoqb6sKLhF5E5gHnCQiOSLyI69r\nCrIzgYk4f4Fmua/xXhcVZJ2AWSKyHOePo5mqGhKXp4aYDsBXIrIMWAh8pKqfBOrgdjmuMcYYv1iL\nwxhjjF8sOIwxxvjFgsMYY4xfLDiMMcb4xYLDGGOMXyw4jGniROTcUHmiq2keLDiMMcb4xYLDmAAR\nkRvduS6yRORZ92GChSLymDv3xecikuJuO0hE5ovIchF5T0Taust7ichn7nwZS0Skp3v4OBF5R0TW\nisjr7l3vxnjCgsOYABCRfsA1wJnuAwQrgRuAWCBTVU8G5gC/dXd5Bfilqp4CrPBZ/jrwlKqeCpwB\nbHeXDwZ+DvQHeuDc9W6MJyK8LsCYFuICYAiwyG0MtMJ5bHkV8La7zWvAf0UkEWijqnPc5S8D/3Gf\nLZSqqu8BqGoJgHu8haqa477PArrhTMJkTKOz4DAmMAR4WVXvO2KhyP01tmvoM35KfX6vxP7tGg9Z\nV5UxgfE5cKWItAcQkXYi0hXn39iV7jbXA1+p6j5gr4ic7S6fCMxxZyHMEZHL3GNEi0jrRj0LY+rB\n/moxJgBUdbWI/AZnxrUwoBz4GVCEM1nSb3C6rq5xd7kJ+KcbDNnAD9zlE4FnReRB9xhXNeJpGFMv\n9nRcY4JIRApVNc7rOowJJOuqMsYY4xdrcRhjjPGLtTiMMcb4xYLDGGOMXyw4jDHG+MWCwxhjjF8s\nOIwxxvjl/wN3kTfY3Ze7owAAAABJRU5ErkJggg==\n",
            "text/plain": [
              "<Figure size 432x288 with 1 Axes>"
            ]
          },
          "metadata": {
            "tags": []
          }
        }
      ]
    },
    {
      "cell_type": "markdown",
      "metadata": {
        "id": "OtR7zJqzadDa",
        "colab_type": "text"
      },
      "source": [
        "### **2. Text Classification with CNN**"
      ]
    },
    {
      "cell_type": "code",
      "metadata": {
        "id": "FT_YZv9YbVhC",
        "colab_type": "code",
        "colab": {}
      },
      "source": [
        "from keras.layers import Conv1D"
      ],
      "execution_count": 0,
      "outputs": []
    },
    {
      "cell_type": "code",
      "metadata": {
        "id": "ioUyoz39achj",
        "colab_type": "code",
        "colab": {}
      },
      "source": [
        "model = Sequential()\n",
        "\n",
        "embedding_layer = Embedding(vocab_size, 100, weights=[embedding_matrix],\n",
        "                           input_length=100, trainable=False)\n",
        "model.add(embedding_layer)\n",
        "\n",
        "model.add(Conv1D(128, 5, activation='relu'))\n",
        "model.add(GlobalMaxPooling1D())\n",
        "model.add(Dense(1, activation='sigmoid'))\n",
        "model.compile(optimizer='adam', loss='binary_crossentropy', metrics=['acc'])"
      ],
      "execution_count": 0,
      "outputs": []
    },
    {
      "cell_type": "code",
      "metadata": {
        "id": "NSExIwjVbPuj",
        "colab_type": "code",
        "colab": {
          "base_uri": "https://localhost:8080/",
          "height": 318
        },
        "outputId": "2cb9fea4-81a5-44c8-c3a5-2b053da382b7"
      },
      "source": [
        "print(model.summary())"
      ],
      "execution_count": 36,
      "outputs": [
        {
          "output_type": "stream",
          "text": [
            "Model: \"sequential_7\"\n",
            "_________________________________________________________________\n",
            "Layer (type)                 Output Shape              Param #   \n",
            "=================================================================\n",
            "embedding_7 (Embedding)      (None, 100, 100)          9254700   \n",
            "_________________________________________________________________\n",
            "conv1d_5 (Conv1D)            (None, 96, 128)           64128     \n",
            "_________________________________________________________________\n",
            "global_max_pooling1d_2 (Glob (None, 128)               0         \n",
            "_________________________________________________________________\n",
            "dense_3 (Dense)              (None, 1)                 129       \n",
            "=================================================================\n",
            "Total params: 9,318,957\n",
            "Trainable params: 64,257\n",
            "Non-trainable params: 9,254,700\n",
            "_________________________________________________________________\n",
            "None\n"
          ],
          "name": "stdout"
        }
      ]
    },
    {
      "cell_type": "code",
      "metadata": {
        "id": "s0YlyvxvZ7En",
        "colab_type": "code",
        "colab": {
          "base_uri": "https://localhost:8080/",
          "height": 267
        },
        "outputId": "88d843a9-ec46-46c5-e9dc-509fd90058fe"
      },
      "source": [
        "hist = model.fit(X_train, y_train, batch_size=128, epochs=6, verbose=1,\n",
        "                validation_split=0.2)"
      ],
      "execution_count": 37,
      "outputs": [
        {
          "output_type": "stream",
          "text": [
            "Train on 32000 samples, validate on 8000 samples\n",
            "Epoch 1/6\n",
            "32000/32000 [==============================] - 7s 209us/step - loss: 0.5089 - acc: 0.7474 - val_loss: 0.4002 - val_acc: 0.8211\n",
            "Epoch 2/6\n",
            "32000/32000 [==============================] - 1s 43us/step - loss: 0.3751 - acc: 0.8359 - val_loss: 0.3684 - val_acc: 0.8331\n",
            "Epoch 3/6\n",
            "32000/32000 [==============================] - 1s 42us/step - loss: 0.3225 - acc: 0.8631 - val_loss: 0.3602 - val_acc: 0.8395\n",
            "Epoch 4/6\n",
            "32000/32000 [==============================] - 1s 43us/step - loss: 0.2864 - acc: 0.8815 - val_loss: 0.3447 - val_acc: 0.8476\n",
            "Epoch 5/6\n",
            "32000/32000 [==============================] - 1s 42us/step - loss: 0.2529 - acc: 0.8997 - val_loss: 0.3702 - val_acc: 0.8336\n",
            "Epoch 6/6\n",
            "32000/32000 [==============================] - 1s 44us/step - loss: 0.2200 - acc: 0.9178 - val_loss: 0.3487 - val_acc: 0.8434\n"
          ],
          "name": "stdout"
        }
      ]
    },
    {
      "cell_type": "code",
      "metadata": {
        "id": "JIuLRco3cHXK",
        "colab_type": "code",
        "colab": {
          "base_uri": "https://localhost:8080/",
          "height": 35
        },
        "outputId": "0c918e57-623d-4a91-8097-cce028e7f582"
      },
      "source": [
        "score = model.evaluate(X_test, y_test, verbose=1)"
      ],
      "execution_count": 38,
      "outputs": [
        {
          "output_type": "stream",
          "text": [
            "10000/10000 [==============================] - 1s 60us/step\n"
          ],
          "name": "stdout"
        }
      ]
    },
    {
      "cell_type": "code",
      "metadata": {
        "id": "2wazK3f1cQli",
        "colab_type": "code",
        "colab": {
          "base_uri": "https://localhost:8080/",
          "height": 52
        },
        "outputId": "62869e94-0e89-4fc8-cd54-4f70d0c2a992"
      },
      "source": [
        "print(\"Test score:\", score[0])\n",
        "print(\"Train score:\", score[1])"
      ],
      "execution_count": 39,
      "outputs": [
        {
          "output_type": "stream",
          "text": [
            "Test score: 0.3502622786045074\n",
            "Train score: 0.8429\n"
          ],
          "name": "stdout"
        }
      ]
    },
    {
      "cell_type": "code",
      "metadata": {
        "id": "WsmWh1PvcWbK",
        "colab_type": "code",
        "colab": {}
      },
      "source": [
        ""
      ],
      "execution_count": 0,
      "outputs": []
    }
  ]
}
